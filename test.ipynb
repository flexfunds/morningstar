{
 "cells": [
  {
   "cell_type": "code",
   "execution_count": 2,
   "metadata": {},
   "outputs": [
    {
     "name": "stdout",
     "output_type": "stream",
     "text": [
      "<class 'pandas.core.frame.DataFrame'>\n",
      "RangeIndex: 0 entries\n",
      "Data columns (total 22 columns):\n",
      " #   Column                                Non-Null Count  Dtype \n",
      "---  ------                                --------------  ----- \n",
      " 0   Unique Identifier                     0 non-null      object\n",
      " 1   Fund Class Name                       0 non-null      object\n",
      " 2   SEDOL                                 0 non-null      object\n",
      " 3   CUSIP                                 0 non-null      object\n",
      " 4   MEX ID                                0 non-null      object\n",
      " 5   NAV/Daily dividend Date               0 non-null      object\n",
      " 6   NAV/Daily dividend  Currency          0 non-null      object\n",
      " 7   NAV                                   0 non-null      object\n",
      " 8   Bid                                   0 non-null      object\n",
      " 9   Offer                                 0 non-null      object\n",
      " 10  Market Price                          0 non-null      object\n",
      " 11  DailyDividend                         0 non-null      object\n",
      " 12  ClassTNADate                          0 non-null      object\n",
      " 13  ClassTNACurrency                      0 non-null      object\n",
      " 14  ClassTNA                              0 non-null      object\n",
      " 15  Shares                                0 non-null      object\n",
      " 16  FundSizeDate                          0 non-null      object\n",
      " 17  FundSizeCurrency                      0 non-null      object\n",
      " 18  FundSize                              0 non-null      object\n",
      " 19  Ex-dividend Date                      0 non-null      object\n",
      " 20  Reinvestment Date                     0 non-null      object\n",
      " 21  Non Qualified Distribution per Share  0 non-null      object\n",
      "dtypes: object(22)\n",
      "memory usage: 132.0+ bytes\n",
      "None\n"
     ]
    }
   ],
   "source": [
    "import pandas as pd\n",
    "\n",
    "df = pd.read_excel('./input/template/Morningstar Performance Template.xls', sheet_name='NAVs', skiprows=7, header=0)\n",
    "\n",
    "print(df.info())\n"
   ]
  },
  {
   "cell_type": "code",
   "execution_count": 3,
   "metadata": {},
   "outputs": [
    {
     "name": "stdout",
     "output_type": "stream",
     "text": [
      "<class 'pandas.core.frame.DataFrame'>\n",
      "RangeIndex: 63 entries, 0 to 62\n",
      "Data columns (total 12 columns):\n",
      " #   Column                     Non-Null Count  Dtype  \n",
      "---  ------                     --------------  -----  \n",
      " 0   EntityName                 63 non-null     object \n",
      " 1   PortfolioName              63 non-null     object \n",
      " 2   ISIN                       63 non-null     object \n",
      " 3   Account Base Currency      63 non-null     object \n",
      " 4   Frequency                  63 non-null     object \n",
      " 5   Valuation Period-End Date  63 non-null     object \n",
      " 6   Shareholder Equity         63 non-null     object \n",
      " 7   NAV                        63 non-null     float64\n",
      " 8   Outstanding Shares Par     63 non-null     object \n",
      " 9   ATWeb Assets               63 non-null     object \n",
      " 10  ATWeb Liabilities          63 non-null     object \n",
      " 11  Inventory                  63 non-null     object \n",
      "dtypes: float64(1), object(11)\n",
      "memory usage: 6.0+ KB\n"
     ]
    }
   ],
   "source": [
    "nav_etpcap2 = pd.read_csv('./input/CAS_Flexfunds_NAV_12202024 ETPCAP2.csv').dropna(how='all', axis=0).dropna(how='all', axis=1)\n",
    "nav_hfmx = pd.read_csv('./input/CAS_Flexfunds_NAV_12202024 HFMX.csv').dropna(how='all', axis=0).dropna(how='all', axis=1)\n",
    "nav_iacap = pd.read_csv('./input/CAS_Flexfunds_NAV_12202024 IACAP.csv').dropna(how='all', axis=0).dropna(how='all', axis=1)\n",
    "\n",
    "nav_df = pd.concat([nav_etpcap2, nav_hfmx, nav_iacap], ignore_index=True)\n",
    "\n",
    "nav_df.info()\n"
   ]
  },
  {
   "cell_type": "code",
   "execution_count": 6,
   "metadata": {},
   "outputs": [
    {
     "ename": "InvalidFileException",
     "evalue": "openpyxl does not support the old .xls file format, please use xlrd to read this file, or convert it to the more recent .xlsx file format.",
     "output_type": "error",
     "traceback": [
      "\u001b[1;31m---------------------------------------------------------------------------\u001b[0m",
      "\u001b[1;31mInvalidFileException\u001b[0m                      Traceback (most recent call last)",
      "Cell \u001b[1;32mIn[6], line 13\u001b[0m\n\u001b[0;32m     11\u001b[0m \u001b[38;5;28;01mimport\u001b[39;00m\u001b[38;5;250m \u001b[39m\u001b[38;5;21;01mopenpyxl\u001b[39;00m\n\u001b[0;32m     12\u001b[0m \u001b[38;5;66;03m# df.to_excel('./Morningstar Performance Template.xlsx', sheet_name='NAVs', index=False)\u001b[39;00m\n\u001b[1;32m---> 13\u001b[0m wb \u001b[38;5;241m=\u001b[39m \u001b[43mopenpyxl\u001b[49m\u001b[38;5;241;43m.\u001b[39;49m\u001b[43mload_workbook\u001b[49m\u001b[43m(\u001b[49m\u001b[38;5;124;43m'\u001b[39;49m\u001b[38;5;124;43m./input/template/Morningstar Performance Template.xls\u001b[39;49m\u001b[38;5;124;43m'\u001b[39;49m\u001b[43m)\u001b[49m\n\u001b[0;32m     14\u001b[0m ws \u001b[38;5;241m=\u001b[39m wb[\u001b[38;5;124m'\u001b[39m\u001b[38;5;124mNAVs\u001b[39m\u001b[38;5;124m'\u001b[39m]\n\u001b[0;32m     16\u001b[0m \u001b[38;5;28;01mfor\u001b[39;00m i, row \u001b[38;5;129;01min\u001b[39;00m \u001b[38;5;28menumerate\u001b[39m(df\u001b[38;5;241m.\u001b[39mvalues):\n",
      "File \u001b[1;32mc:\\Users\\a\\Documents\\FlexFunds\\morningstar\\venv\\Lib\\site-packages\\openpyxl\\reader\\excel.py:346\u001b[0m, in \u001b[0;36mload_workbook\u001b[1;34m(filename, read_only, keep_vba, data_only, keep_links, rich_text)\u001b[0m\n\u001b[0;32m    316\u001b[0m \u001b[38;5;28;01mdef\u001b[39;00m\u001b[38;5;250m \u001b[39m\u001b[38;5;21mload_workbook\u001b[39m(filename, read_only\u001b[38;5;241m=\u001b[39m\u001b[38;5;28;01mFalse\u001b[39;00m, keep_vba\u001b[38;5;241m=\u001b[39mKEEP_VBA,\n\u001b[0;32m    317\u001b[0m                   data_only\u001b[38;5;241m=\u001b[39m\u001b[38;5;28;01mFalse\u001b[39;00m, keep_links\u001b[38;5;241m=\u001b[39m\u001b[38;5;28;01mTrue\u001b[39;00m, rich_text\u001b[38;5;241m=\u001b[39m\u001b[38;5;28;01mFalse\u001b[39;00m):\n\u001b[0;32m    318\u001b[0m \u001b[38;5;250m    \u001b[39m\u001b[38;5;124;03m\"\"\"Open the given filename and return the workbook\u001b[39;00m\n\u001b[0;32m    319\u001b[0m \n\u001b[0;32m    320\u001b[0m \u001b[38;5;124;03m    :param filename: the path to open or a file-like object\u001b[39;00m\n\u001b[1;32m   (...)\u001b[0m\n\u001b[0;32m    344\u001b[0m \n\u001b[0;32m    345\u001b[0m \u001b[38;5;124;03m    \"\"\"\u001b[39;00m\n\u001b[1;32m--> 346\u001b[0m     reader \u001b[38;5;241m=\u001b[39m \u001b[43mExcelReader\u001b[49m\u001b[43m(\u001b[49m\u001b[43mfilename\u001b[49m\u001b[43m,\u001b[49m\u001b[43m \u001b[49m\u001b[43mread_only\u001b[49m\u001b[43m,\u001b[49m\u001b[43m \u001b[49m\u001b[43mkeep_vba\u001b[49m\u001b[43m,\u001b[49m\n\u001b[0;32m    347\u001b[0m \u001b[43m                         \u001b[49m\u001b[43mdata_only\u001b[49m\u001b[43m,\u001b[49m\u001b[43m \u001b[49m\u001b[43mkeep_links\u001b[49m\u001b[43m,\u001b[49m\u001b[43m \u001b[49m\u001b[43mrich_text\u001b[49m\u001b[43m)\u001b[49m\n\u001b[0;32m    348\u001b[0m     reader\u001b[38;5;241m.\u001b[39mread()\n\u001b[0;32m    349\u001b[0m     \u001b[38;5;28;01mreturn\u001b[39;00m reader\u001b[38;5;241m.\u001b[39mwb\n",
      "File \u001b[1;32mc:\\Users\\a\\Documents\\FlexFunds\\morningstar\\venv\\Lib\\site-packages\\openpyxl\\reader\\excel.py:123\u001b[0m, in \u001b[0;36mExcelReader.__init__\u001b[1;34m(self, fn, read_only, keep_vba, data_only, keep_links, rich_text)\u001b[0m\n\u001b[0;32m    121\u001b[0m \u001b[38;5;28;01mdef\u001b[39;00m\u001b[38;5;250m \u001b[39m\u001b[38;5;21m__init__\u001b[39m(\u001b[38;5;28mself\u001b[39m, fn, read_only\u001b[38;5;241m=\u001b[39m\u001b[38;5;28;01mFalse\u001b[39;00m, keep_vba\u001b[38;5;241m=\u001b[39mKEEP_VBA,\n\u001b[0;32m    122\u001b[0m              data_only\u001b[38;5;241m=\u001b[39m\u001b[38;5;28;01mFalse\u001b[39;00m, keep_links\u001b[38;5;241m=\u001b[39m\u001b[38;5;28;01mTrue\u001b[39;00m, rich_text\u001b[38;5;241m=\u001b[39m\u001b[38;5;28;01mFalse\u001b[39;00m):\n\u001b[1;32m--> 123\u001b[0m     \u001b[38;5;28mself\u001b[39m\u001b[38;5;241m.\u001b[39marchive \u001b[38;5;241m=\u001b[39m \u001b[43m_validate_archive\u001b[49m\u001b[43m(\u001b[49m\u001b[43mfn\u001b[49m\u001b[43m)\u001b[49m\n\u001b[0;32m    124\u001b[0m     \u001b[38;5;28mself\u001b[39m\u001b[38;5;241m.\u001b[39mvalid_files \u001b[38;5;241m=\u001b[39m \u001b[38;5;28mself\u001b[39m\u001b[38;5;241m.\u001b[39marchive\u001b[38;5;241m.\u001b[39mnamelist()\n\u001b[0;32m    125\u001b[0m     \u001b[38;5;28mself\u001b[39m\u001b[38;5;241m.\u001b[39mread_only \u001b[38;5;241m=\u001b[39m read_only\n",
      "File \u001b[1;32mc:\\Users\\a\\Documents\\FlexFunds\\morningstar\\venv\\Lib\\site-packages\\openpyxl\\reader\\excel.py:93\u001b[0m, in \u001b[0;36m_validate_archive\u001b[1;34m(filename)\u001b[0m\n\u001b[0;32m     87\u001b[0m         \u001b[38;5;28;01melse\u001b[39;00m:\n\u001b[0;32m     88\u001b[0m             msg \u001b[38;5;241m=\u001b[39m (\u001b[38;5;124m'\u001b[39m\u001b[38;5;124mopenpyxl does not support \u001b[39m\u001b[38;5;132;01m%s\u001b[39;00m\u001b[38;5;124m file format, \u001b[39m\u001b[38;5;124m'\u001b[39m\n\u001b[0;32m     89\u001b[0m                    \u001b[38;5;124m'\u001b[39m\u001b[38;5;124mplease check you can open \u001b[39m\u001b[38;5;124m'\u001b[39m\n\u001b[0;32m     90\u001b[0m                    \u001b[38;5;124m'\u001b[39m\u001b[38;5;124mit with Excel first. \u001b[39m\u001b[38;5;124m'\u001b[39m\n\u001b[0;32m     91\u001b[0m                    \u001b[38;5;124m'\u001b[39m\u001b[38;5;124mSupported formats are: \u001b[39m\u001b[38;5;132;01m%s\u001b[39;00m\u001b[38;5;124m'\u001b[39m) \u001b[38;5;241m%\u001b[39m (file_format,\n\u001b[0;32m     92\u001b[0m                                                    \u001b[38;5;124m'\u001b[39m\u001b[38;5;124m,\u001b[39m\u001b[38;5;124m'\u001b[39m\u001b[38;5;241m.\u001b[39mjoin(SUPPORTED_FORMATS))\n\u001b[1;32m---> 93\u001b[0m         \u001b[38;5;28;01mraise\u001b[39;00m InvalidFileException(msg)\n\u001b[0;32m     95\u001b[0m archive \u001b[38;5;241m=\u001b[39m ZipFile(filename, \u001b[38;5;124m'\u001b[39m\u001b[38;5;124mr\u001b[39m\u001b[38;5;124m'\u001b[39m)\n\u001b[0;32m     96\u001b[0m \u001b[38;5;28;01mreturn\u001b[39;00m archive\n",
      "\u001b[1;31mInvalidFileException\u001b[0m: openpyxl does not support the old .xls file format, please use xlrd to read this file, or convert it to the more recent .xlsx file format."
     ]
    }
   ],
   "source": [
    "mapping = {\n",
    "    'Unique Identifier': 'ISIN',\n",
    "    'NAV/Daily dividend Date': 'Valuation Period-End Date',\n",
    "    'NAV': 'NAV'\n",
    "}\n",
    "\n",
    "for xls_col, csv_col in mapping.items():\n",
    "    df[xls_col] = nav_df[csv_col]\n",
    "\n",
    "\n",
    "import openpyxl\n",
    "# df.to_excel('./Morningstar Performance Template.xlsx', sheet_name='NAVs', index=False)\n",
    "wb = openpyxl.load_workbook('./input/template/Morningstar Performance Template.xls')\n",
    "ws = wb['NAVs']\n",
    "\n",
    "for i, row in enumerate(df.values):\n",
    "    for j, value in enumerate(row):\n",
    "        # Add 8 to account for the header rows\n",
    "        ws.cell(row=i+8, column=j+1, value=value)\n",
    "\n",
    "# Save the workbook with preserved formatting\n",
    "wb.save('./Morningstar Performance Template_updated.xlsx')"
   ]
  },
  {
   "cell_type": "code",
   "execution_count": 7,
   "metadata": {},
   "outputs": [
    {
     "ename": "ModuleNotFoundError",
     "evalue": "No module named 'xlutils'",
     "output_type": "error",
     "traceback": [
      "\u001b[1;31m---------------------------------------------------------------------------\u001b[0m",
      "\u001b[1;31mModuleNotFoundError\u001b[0m                       Traceback (most recent call last)",
      "Cell \u001b[1;32mIn[7], line 3\u001b[0m\n\u001b[0;32m      1\u001b[0m \u001b[38;5;28;01mimport\u001b[39;00m\u001b[38;5;250m \u001b[39m\u001b[38;5;21;01mpandas\u001b[39;00m\u001b[38;5;250m \u001b[39m\u001b[38;5;28;01mas\u001b[39;00m\u001b[38;5;250m \u001b[39m\u001b[38;5;21;01mpd\u001b[39;00m\n\u001b[0;32m      2\u001b[0m \u001b[38;5;28;01mimport\u001b[39;00m\u001b[38;5;250m \u001b[39m\u001b[38;5;21;01mxlrd\u001b[39;00m\n\u001b[1;32m----> 3\u001b[0m \u001b[38;5;28;01mimport\u001b[39;00m\u001b[38;5;250m \u001b[39m\u001b[38;5;21;01mxlutils\u001b[39;00m\u001b[38;5;21;01m.\u001b[39;00m\u001b[38;5;21;01mcopy\u001b[39;00m\n\u001b[0;32m      5\u001b[0m \u001b[38;5;66;03m# Read the template to get structure and preserve formatting\u001b[39;00m\n\u001b[0;32m      6\u001b[0m template_path \u001b[38;5;241m=\u001b[39m \u001b[38;5;124m'\u001b[39m\u001b[38;5;124m./Morningstar Performance Template.xls\u001b[39m\u001b[38;5;124m'\u001b[39m\n",
      "\u001b[1;31mModuleNotFoundError\u001b[0m: No module named 'xlutils'"
     ]
    }
   ],
   "source": [
    "import pandas as pd\n",
    "import xlrd\n",
    "import xlutils.copy\n",
    "\n",
    "# Read the template to get structure and preserve formatting\n",
    "template_path = './input/template/Morningstar Performance Template.xls'\n",
    "wb = xlrd.open_workbook(template_path, formatting_info=True)\n",
    "template_sheet = wb.sheet_by_name('NAVs')\n",
    "\n",
    "# Create a copy of the workbook to modify\n",
    "wb_output = xlutils.copy.copy(wb)\n",
    "sheet_output = wb_output.get_sheet('NAVs')\n",
    "\n",
    "# Read NAV data\n",
    "nav_etpcap2 = pd.read_csv('./input/CAS_Flexfunds_NAV_12202024 ETPCAP2.csv').dropna(how='all', axis=0).dropna(how='all', axis=1)\n",
    "nav_hfmx = pd.read_csv('./input/CAS_Flexfunds_NAV_12202024 HFMX.csv').dropna(how='all', axis=0).dropna(how='all', axis=1)\n",
    "nav_iacap = pd.read_csv('./input/CAS_Flexfunds_NAV_12202024 IACAP.csv').dropna(how='all', axis=0).dropna(how='all', axis=1)\n",
    "\n",
    "nav_df = pd.concat([nav_etpcap2, nav_hfmx, nav_iacap], ignore_index=True)\n",
    "\n",
    "# Get column indices from template (row 7 contains headers)\n",
    "header_row = 7\n",
    "col_indices = {}\n",
    "for col_idx in range(template_sheet.ncols):\n",
    "    header_value = template_sheet.cell_value(header_row, col_idx)\n",
    "    col_indices[header_value] = col_idx\n",
    "\n",
    "# Mapping of columns\n",
    "mapping = {\n",
    "    'Unique Identifier': 'ISIN',\n",
    "    'NAV/Daily dividend Date': 'Valuation Period-End Date',\n",
    "    'NAV': 'NAV'\n",
    "}\n",
    "\n",
    "# Update the data starting from row 8\n",
    "for i, row in nav_df.iterrows():\n",
    "    row_idx = i + 8  # Start from row 8\n",
    "    for template_col, nav_col in mapping.items():\n",
    "        col_idx = col_indices[template_col]\n",
    "        value = row[nav_col]\n",
    "        sheet_output.write(row_idx, col_idx, value)\n",
    "\n",
    "# Save the updated workbook\n",
    "wb_output.save('Morningstar Performance Template_updated.xls')"
   ]
  }
 ],
 "metadata": {
  "kernelspec": {
   "display_name": "venv",
   "language": "python",
   "name": "python3"
  },
  "language_info": {
   "codemirror_mode": {
    "name": "ipython",
    "version": 3
   },
   "file_extension": ".py",
   "mimetype": "text/x-python",
   "name": "python",
   "nbconvert_exporter": "python",
   "pygments_lexer": "ipython3",
   "version": "3.12.3"
  }
 },
 "nbformat": 4,
 "nbformat_minor": 2
}
